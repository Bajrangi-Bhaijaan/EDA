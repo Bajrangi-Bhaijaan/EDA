{
 "cells": [
  {
   "cell_type": "markdown",
   "id": "c31567f8",
   "metadata": {},
   "source": [
    "# Finding answers through DATA !!!!"
   ]
  },
  {
   "cell_type": "markdown",
   "id": "699eda4a",
   "metadata": {},
   "source": [
    "# Nifty50 Daily Returns Distribution"
   ]
  },
  {
   "cell_type": "markdown",
   "id": "3dad2427",
   "metadata": {},
   "source": [
    "# "
   ]
  },
  {
   "cell_type": "code",
   "execution_count": 1,
   "id": "db36ad74",
   "metadata": {},
   "outputs": [],
   "source": [
    "import numpy as np\n",
    "import pandas as pd\n",
    "import matplotlib.pyplot as plt\n",
    "import seaborn as sns\n",
    "%matplotlib inline \n",
    "import warnings\n",
    "warnings.filterwarnings('ignore')"
   ]
  },
  {
   "cell_type": "markdown",
   "id": "dbeeebeb",
   "metadata": {},
   "source": [
    "# Load Nifty50 (2007-2022) dataset from Yahoo finance website"
   ]
  },
  {
   "cell_type": "code",
   "execution_count": 2,
   "id": "3db052c8",
   "metadata": {},
   "outputs": [
    {
     "data": {
      "text/html": [
       "<div>\n",
       "<style scoped>\n",
       "    .dataframe tbody tr th:only-of-type {\n",
       "        vertical-align: middle;\n",
       "    }\n",
       "\n",
       "    .dataframe tbody tr th {\n",
       "        vertical-align: top;\n",
       "    }\n",
       "\n",
       "    .dataframe thead th {\n",
       "        text-align: right;\n",
       "    }\n",
       "</style>\n",
       "<table border=\"1\" class=\"dataframe\">\n",
       "  <thead>\n",
       "    <tr style=\"text-align: right;\">\n",
       "      <th></th>\n",
       "      <th>Date</th>\n",
       "      <th>Open</th>\n",
       "      <th>High</th>\n",
       "      <th>Low</th>\n",
       "      <th>Close</th>\n",
       "      <th>Adj Close</th>\n",
       "    </tr>\n",
       "  </thead>\n",
       "  <tbody>\n",
       "    <tr>\n",
       "      <th>0</th>\n",
       "      <td>17-09-07</td>\n",
       "      <td>4518.45000</td>\n",
       "      <td>4549.05000</td>\n",
       "      <td>4482.85000</td>\n",
       "      <td>4494.65000</td>\n",
       "      <td>4494.65000</td>\n",
       "    </tr>\n",
       "    <tr>\n",
       "      <th>1</th>\n",
       "      <td>18-09-07</td>\n",
       "      <td>4494.10000</td>\n",
       "      <td>4551.80000</td>\n",
       "      <td>4481.55000</td>\n",
       "      <td>4546.20000</td>\n",
       "      <td>4546.20000</td>\n",
       "    </tr>\n",
       "    <tr>\n",
       "      <th>2</th>\n",
       "      <td>19-09-07</td>\n",
       "      <td>4550.25000</td>\n",
       "      <td>4739.00000</td>\n",
       "      <td>4550.25000</td>\n",
       "      <td>4732.35000</td>\n",
       "      <td>4732.35000</td>\n",
       "    </tr>\n",
       "    <tr>\n",
       "      <th>3</th>\n",
       "      <td>20-09-07</td>\n",
       "      <td>4734.85000</td>\n",
       "      <td>4760.85000</td>\n",
       "      <td>4721.15000</td>\n",
       "      <td>4747.55000</td>\n",
       "      <td>4747.55000</td>\n",
       "    </tr>\n",
       "    <tr>\n",
       "      <th>4</th>\n",
       "      <td>21-09-07</td>\n",
       "      <td>4752.95000</td>\n",
       "      <td>4855.70000</td>\n",
       "      <td>4733.70000</td>\n",
       "      <td>4837.55000</td>\n",
       "      <td>4837.55000</td>\n",
       "    </tr>\n",
       "    <tr>\n",
       "      <th>...</th>\n",
       "      <td>...</td>\n",
       "      <td>...</td>\n",
       "      <td>...</td>\n",
       "      <td>...</td>\n",
       "      <td>...</td>\n",
       "      <td>...</td>\n",
       "    </tr>\n",
       "    <tr>\n",
       "      <th>3733</th>\n",
       "      <td>31-10-22</td>\n",
       "      <td>17910.19922</td>\n",
       "      <td>18022.80078</td>\n",
       "      <td>17899.90039</td>\n",
       "      <td>18012.19922</td>\n",
       "      <td>18012.19922</td>\n",
       "    </tr>\n",
       "    <tr>\n",
       "      <th>3734</th>\n",
       "      <td>01-11-22</td>\n",
       "      <td>18130.69922</td>\n",
       "      <td>18175.80078</td>\n",
       "      <td>18060.15039</td>\n",
       "      <td>18145.40039</td>\n",
       "      <td>18145.40039</td>\n",
       "    </tr>\n",
       "    <tr>\n",
       "      <th>3735</th>\n",
       "      <td>02-11-22</td>\n",
       "      <td>18177.90039</td>\n",
       "      <td>18178.75000</td>\n",
       "      <td>18048.65039</td>\n",
       "      <td>18082.84961</td>\n",
       "      <td>18082.84961</td>\n",
       "    </tr>\n",
       "    <tr>\n",
       "      <th>3736</th>\n",
       "      <td>03-11-22</td>\n",
       "      <td>17968.34961</td>\n",
       "      <td>18106.30078</td>\n",
       "      <td>17959.19922</td>\n",
       "      <td>18052.69922</td>\n",
       "      <td>18052.69922</td>\n",
       "    </tr>\n",
       "    <tr>\n",
       "      <th>3737</th>\n",
       "      <td>04-11-22</td>\n",
       "      <td>18053.40039</td>\n",
       "      <td>18135.09961</td>\n",
       "      <td>18017.15039</td>\n",
       "      <td>18117.15039</td>\n",
       "      <td>18117.15039</td>\n",
       "    </tr>\n",
       "  </tbody>\n",
       "</table>\n",
       "<p>3738 rows × 6 columns</p>\n",
       "</div>"
      ],
      "text/plain": [
       "          Date         Open         High          Low        Close  \\\n",
       "0     17-09-07   4518.45000   4549.05000   4482.85000   4494.65000   \n",
       "1     18-09-07   4494.10000   4551.80000   4481.55000   4546.20000   \n",
       "2     19-09-07   4550.25000   4739.00000   4550.25000   4732.35000   \n",
       "3     20-09-07   4734.85000   4760.85000   4721.15000   4747.55000   \n",
       "4     21-09-07   4752.95000   4855.70000   4733.70000   4837.55000   \n",
       "...        ...          ...          ...          ...          ...   \n",
       "3733  31-10-22  17910.19922  18022.80078  17899.90039  18012.19922   \n",
       "3734  01-11-22  18130.69922  18175.80078  18060.15039  18145.40039   \n",
       "3735  02-11-22  18177.90039  18178.75000  18048.65039  18082.84961   \n",
       "3736  03-11-22  17968.34961  18106.30078  17959.19922  18052.69922   \n",
       "3737  04-11-22  18053.40039  18135.09961  18017.15039  18117.15039   \n",
       "\n",
       "        Adj Close  \n",
       "0      4494.65000  \n",
       "1      4546.20000  \n",
       "2      4732.35000  \n",
       "3      4747.55000  \n",
       "4      4837.55000  \n",
       "...           ...  \n",
       "3733  18012.19922  \n",
       "3734  18145.40039  \n",
       "3735  18082.84961  \n",
       "3736  18052.69922  \n",
       "3737  18117.15039  \n",
       "\n",
       "[3738 rows x 6 columns]"
      ]
     },
     "execution_count": 2,
     "metadata": {},
     "output_type": "execute_result"
    }
   ],
   "source": [
    "pd.read_csv(\"nifty_dataset.csv\")"
   ]
  },
  {
   "cell_type": "code",
   "execution_count": 3,
   "id": "dae71664",
   "metadata": {},
   "outputs": [],
   "source": [
    "data = pd.read_csv(\"nifty_dataset.csv\")"
   ]
  },
  {
   "cell_type": "code",
   "execution_count": 4,
   "id": "1f28d462",
   "metadata": {},
   "outputs": [
    {
     "name": "stdout",
     "output_type": "stream",
     "text": [
      "<class 'pandas.core.frame.DataFrame'>\n",
      "RangeIndex: 3738 entries, 0 to 3737\n",
      "Data columns (total 6 columns):\n",
      " #   Column     Non-Null Count  Dtype  \n",
      "---  ------     --------------  -----  \n",
      " 0   Date       3738 non-null   object \n",
      " 1   Open       3708 non-null   float64\n",
      " 2   High       3708 non-null   float64\n",
      " 3   Low        3708 non-null   float64\n",
      " 4   Close      3708 non-null   float64\n",
      " 5   Adj Close  3708 non-null   float64\n",
      "dtypes: float64(5), object(1)\n",
      "memory usage: 175.3+ KB\n"
     ]
    }
   ],
   "source": [
    "data.info()"
   ]
  },
  {
   "cell_type": "code",
   "execution_count": 5,
   "id": "b63a823e",
   "metadata": {},
   "outputs": [
    {
     "data": {
      "text/plain": [
       "(3738, 6)"
      ]
     },
     "execution_count": 5,
     "metadata": {},
     "output_type": "execute_result"
    }
   ],
   "source": [
    "data.shape"
   ]
  },
  {
   "cell_type": "code",
   "execution_count": 6,
   "id": "8922b0db",
   "metadata": {},
   "outputs": [
    {
     "data": {
      "text/html": [
       "<div>\n",
       "<style scoped>\n",
       "    .dataframe tbody tr th:only-of-type {\n",
       "        vertical-align: middle;\n",
       "    }\n",
       "\n",
       "    .dataframe tbody tr th {\n",
       "        vertical-align: top;\n",
       "    }\n",
       "\n",
       "    .dataframe thead th {\n",
       "        text-align: right;\n",
       "    }\n",
       "</style>\n",
       "<table border=\"1\" class=\"dataframe\">\n",
       "  <thead>\n",
       "    <tr style=\"text-align: right;\">\n",
       "      <th></th>\n",
       "      <th>Date</th>\n",
       "      <th>Open</th>\n",
       "      <th>High</th>\n",
       "      <th>Low</th>\n",
       "      <th>Close</th>\n",
       "      <th>Adj Close</th>\n",
       "    </tr>\n",
       "  </thead>\n",
       "  <tbody>\n",
       "    <tr>\n",
       "      <th>0</th>\n",
       "      <td>False</td>\n",
       "      <td>False</td>\n",
       "      <td>False</td>\n",
       "      <td>False</td>\n",
       "      <td>False</td>\n",
       "      <td>False</td>\n",
       "    </tr>\n",
       "    <tr>\n",
       "      <th>1</th>\n",
       "      <td>False</td>\n",
       "      <td>False</td>\n",
       "      <td>False</td>\n",
       "      <td>False</td>\n",
       "      <td>False</td>\n",
       "      <td>False</td>\n",
       "    </tr>\n",
       "    <tr>\n",
       "      <th>2</th>\n",
       "      <td>False</td>\n",
       "      <td>False</td>\n",
       "      <td>False</td>\n",
       "      <td>False</td>\n",
       "      <td>False</td>\n",
       "      <td>False</td>\n",
       "    </tr>\n",
       "    <tr>\n",
       "      <th>3</th>\n",
       "      <td>False</td>\n",
       "      <td>False</td>\n",
       "      <td>False</td>\n",
       "      <td>False</td>\n",
       "      <td>False</td>\n",
       "      <td>False</td>\n",
       "    </tr>\n",
       "    <tr>\n",
       "      <th>4</th>\n",
       "      <td>False</td>\n",
       "      <td>False</td>\n",
       "      <td>False</td>\n",
       "      <td>False</td>\n",
       "      <td>False</td>\n",
       "      <td>False</td>\n",
       "    </tr>\n",
       "    <tr>\n",
       "      <th>...</th>\n",
       "      <td>...</td>\n",
       "      <td>...</td>\n",
       "      <td>...</td>\n",
       "      <td>...</td>\n",
       "      <td>...</td>\n",
       "      <td>...</td>\n",
       "    </tr>\n",
       "    <tr>\n",
       "      <th>3733</th>\n",
       "      <td>False</td>\n",
       "      <td>False</td>\n",
       "      <td>False</td>\n",
       "      <td>False</td>\n",
       "      <td>False</td>\n",
       "      <td>False</td>\n",
       "    </tr>\n",
       "    <tr>\n",
       "      <th>3734</th>\n",
       "      <td>False</td>\n",
       "      <td>False</td>\n",
       "      <td>False</td>\n",
       "      <td>False</td>\n",
       "      <td>False</td>\n",
       "      <td>False</td>\n",
       "    </tr>\n",
       "    <tr>\n",
       "      <th>3735</th>\n",
       "      <td>False</td>\n",
       "      <td>False</td>\n",
       "      <td>False</td>\n",
       "      <td>False</td>\n",
       "      <td>False</td>\n",
       "      <td>False</td>\n",
       "    </tr>\n",
       "    <tr>\n",
       "      <th>3736</th>\n",
       "      <td>False</td>\n",
       "      <td>False</td>\n",
       "      <td>False</td>\n",
       "      <td>False</td>\n",
       "      <td>False</td>\n",
       "      <td>False</td>\n",
       "    </tr>\n",
       "    <tr>\n",
       "      <th>3737</th>\n",
       "      <td>False</td>\n",
       "      <td>False</td>\n",
       "      <td>False</td>\n",
       "      <td>False</td>\n",
       "      <td>False</td>\n",
       "      <td>False</td>\n",
       "    </tr>\n",
       "  </tbody>\n",
       "</table>\n",
       "<p>3738 rows × 6 columns</p>\n",
       "</div>"
      ],
      "text/plain": [
       "       Date   Open   High    Low  Close  Adj Close\n",
       "0     False  False  False  False  False      False\n",
       "1     False  False  False  False  False      False\n",
       "2     False  False  False  False  False      False\n",
       "3     False  False  False  False  False      False\n",
       "4     False  False  False  False  False      False\n",
       "...     ...    ...    ...    ...    ...        ...\n",
       "3733  False  False  False  False  False      False\n",
       "3734  False  False  False  False  False      False\n",
       "3735  False  False  False  False  False      False\n",
       "3736  False  False  False  False  False      False\n",
       "3737  False  False  False  False  False      False\n",
       "\n",
       "[3738 rows x 6 columns]"
      ]
     },
     "execution_count": 6,
     "metadata": {},
     "output_type": "execute_result"
    }
   ],
   "source": [
    "data.isnull()"
   ]
  },
  {
   "cell_type": "code",
   "execution_count": 7,
   "id": "38c05351",
   "metadata": {},
   "outputs": [
    {
     "data": {
      "text/plain": [
       "Date          0\n",
       "Open         30\n",
       "High         30\n",
       "Low          30\n",
       "Close        30\n",
       "Adj Close    30\n",
       "dtype: int64"
      ]
     },
     "execution_count": 7,
     "metadata": {},
     "output_type": "execute_result"
    }
   ],
   "source": [
    "data.isnull().sum()"
   ]
  },
  {
   "cell_type": "code",
   "execution_count": 8,
   "id": "8e47a7dd",
   "metadata": {},
   "outputs": [],
   "source": [
    "data=data.dropna()"
   ]
  },
  {
   "cell_type": "code",
   "execution_count": 9,
   "id": "6bf406f1",
   "metadata": {},
   "outputs": [
    {
     "data": {
      "text/plain": [
       "Date         0\n",
       "Open         0\n",
       "High         0\n",
       "Low          0\n",
       "Close        0\n",
       "Adj Close    0\n",
       "dtype: int64"
      ]
     },
     "execution_count": 9,
     "metadata": {},
     "output_type": "execute_result"
    }
   ],
   "source": [
    "data.isnull().sum()"
   ]
  },
  {
   "cell_type": "markdown",
   "id": "ff01cee9",
   "metadata": {},
   "source": [
    "# lets create a new colunm as \"Returns\"\n"
   ]
  },
  {
   "cell_type": "code",
   "execution_count": 10,
   "id": "1b9b1231",
   "metadata": {},
   "outputs": [],
   "source": [
    "returns=(data['Close']-data['Open'])/data['Open']"
   ]
  },
  {
   "cell_type": "code",
   "execution_count": 11,
   "id": "27a9d48c",
   "metadata": {},
   "outputs": [],
   "source": [
    "data['Returns']=returns"
   ]
  },
  {
   "cell_type": "code",
   "execution_count": 12,
   "id": "f8370b20",
   "metadata": {},
   "outputs": [
    {
     "data": {
      "text/html": [
       "<div>\n",
       "<style scoped>\n",
       "    .dataframe tbody tr th:only-of-type {\n",
       "        vertical-align: middle;\n",
       "    }\n",
       "\n",
       "    .dataframe tbody tr th {\n",
       "        vertical-align: top;\n",
       "    }\n",
       "\n",
       "    .dataframe thead th {\n",
       "        text-align: right;\n",
       "    }\n",
       "</style>\n",
       "<table border=\"1\" class=\"dataframe\">\n",
       "  <thead>\n",
       "    <tr style=\"text-align: right;\">\n",
       "      <th></th>\n",
       "      <th>Date</th>\n",
       "      <th>Open</th>\n",
       "      <th>High</th>\n",
       "      <th>Low</th>\n",
       "      <th>Close</th>\n",
       "      <th>Adj Close</th>\n",
       "      <th>Returns</th>\n",
       "    </tr>\n",
       "  </thead>\n",
       "  <tbody>\n",
       "    <tr>\n",
       "      <th>0</th>\n",
       "      <td>17-09-07</td>\n",
       "      <td>4518.45000</td>\n",
       "      <td>4549.05000</td>\n",
       "      <td>4482.85000</td>\n",
       "      <td>4494.65000</td>\n",
       "      <td>4494.65000</td>\n",
       "      <td>-0.005267</td>\n",
       "    </tr>\n",
       "    <tr>\n",
       "      <th>1</th>\n",
       "      <td>18-09-07</td>\n",
       "      <td>4494.10000</td>\n",
       "      <td>4551.80000</td>\n",
       "      <td>4481.55000</td>\n",
       "      <td>4546.20000</td>\n",
       "      <td>4546.20000</td>\n",
       "      <td>0.011593</td>\n",
       "    </tr>\n",
       "    <tr>\n",
       "      <th>2</th>\n",
       "      <td>19-09-07</td>\n",
       "      <td>4550.25000</td>\n",
       "      <td>4739.00000</td>\n",
       "      <td>4550.25000</td>\n",
       "      <td>4732.35000</td>\n",
       "      <td>4732.35000</td>\n",
       "      <td>0.040020</td>\n",
       "    </tr>\n",
       "    <tr>\n",
       "      <th>3</th>\n",
       "      <td>20-09-07</td>\n",
       "      <td>4734.85000</td>\n",
       "      <td>4760.85000</td>\n",
       "      <td>4721.15000</td>\n",
       "      <td>4747.55000</td>\n",
       "      <td>4747.55000</td>\n",
       "      <td>0.002682</td>\n",
       "    </tr>\n",
       "    <tr>\n",
       "      <th>4</th>\n",
       "      <td>21-09-07</td>\n",
       "      <td>4752.95000</td>\n",
       "      <td>4855.70000</td>\n",
       "      <td>4733.70000</td>\n",
       "      <td>4837.55000</td>\n",
       "      <td>4837.55000</td>\n",
       "      <td>0.017799</td>\n",
       "    </tr>\n",
       "    <tr>\n",
       "      <th>...</th>\n",
       "      <td>...</td>\n",
       "      <td>...</td>\n",
       "      <td>...</td>\n",
       "      <td>...</td>\n",
       "      <td>...</td>\n",
       "      <td>...</td>\n",
       "      <td>...</td>\n",
       "    </tr>\n",
       "    <tr>\n",
       "      <th>3733</th>\n",
       "      <td>31-10-22</td>\n",
       "      <td>17910.19922</td>\n",
       "      <td>18022.80078</td>\n",
       "      <td>17899.90039</td>\n",
       "      <td>18012.19922</td>\n",
       "      <td>18012.19922</td>\n",
       "      <td>0.005695</td>\n",
       "    </tr>\n",
       "    <tr>\n",
       "      <th>3734</th>\n",
       "      <td>01-11-22</td>\n",
       "      <td>18130.69922</td>\n",
       "      <td>18175.80078</td>\n",
       "      <td>18060.15039</td>\n",
       "      <td>18145.40039</td>\n",
       "      <td>18145.40039</td>\n",
       "      <td>0.000811</td>\n",
       "    </tr>\n",
       "    <tr>\n",
       "      <th>3735</th>\n",
       "      <td>02-11-22</td>\n",
       "      <td>18177.90039</td>\n",
       "      <td>18178.75000</td>\n",
       "      <td>18048.65039</td>\n",
       "      <td>18082.84961</td>\n",
       "      <td>18082.84961</td>\n",
       "      <td>-0.005229</td>\n",
       "    </tr>\n",
       "    <tr>\n",
       "      <th>3736</th>\n",
       "      <td>03-11-22</td>\n",
       "      <td>17968.34961</td>\n",
       "      <td>18106.30078</td>\n",
       "      <td>17959.19922</td>\n",
       "      <td>18052.69922</td>\n",
       "      <td>18052.69922</td>\n",
       "      <td>0.004694</td>\n",
       "    </tr>\n",
       "    <tr>\n",
       "      <th>3737</th>\n",
       "      <td>04-11-22</td>\n",
       "      <td>18053.40039</td>\n",
       "      <td>18135.09961</td>\n",
       "      <td>18017.15039</td>\n",
       "      <td>18117.15039</td>\n",
       "      <td>18117.15039</td>\n",
       "      <td>0.003531</td>\n",
       "    </tr>\n",
       "  </tbody>\n",
       "</table>\n",
       "<p>3708 rows × 7 columns</p>\n",
       "</div>"
      ],
      "text/plain": [
       "          Date         Open         High          Low        Close  \\\n",
       "0     17-09-07   4518.45000   4549.05000   4482.85000   4494.65000   \n",
       "1     18-09-07   4494.10000   4551.80000   4481.55000   4546.20000   \n",
       "2     19-09-07   4550.25000   4739.00000   4550.25000   4732.35000   \n",
       "3     20-09-07   4734.85000   4760.85000   4721.15000   4747.55000   \n",
       "4     21-09-07   4752.95000   4855.70000   4733.70000   4837.55000   \n",
       "...        ...          ...          ...          ...          ...   \n",
       "3733  31-10-22  17910.19922  18022.80078  17899.90039  18012.19922   \n",
       "3734  01-11-22  18130.69922  18175.80078  18060.15039  18145.40039   \n",
       "3735  02-11-22  18177.90039  18178.75000  18048.65039  18082.84961   \n",
       "3736  03-11-22  17968.34961  18106.30078  17959.19922  18052.69922   \n",
       "3737  04-11-22  18053.40039  18135.09961  18017.15039  18117.15039   \n",
       "\n",
       "        Adj Close   Returns  \n",
       "0      4494.65000 -0.005267  \n",
       "1      4546.20000  0.011593  \n",
       "2      4732.35000  0.040020  \n",
       "3      4747.55000  0.002682  \n",
       "4      4837.55000  0.017799  \n",
       "...           ...       ...  \n",
       "3733  18012.19922  0.005695  \n",
       "3734  18145.40039  0.000811  \n",
       "3735  18082.84961 -0.005229  \n",
       "3736  18052.69922  0.004694  \n",
       "3737  18117.15039  0.003531  \n",
       "\n",
       "[3708 rows x 7 columns]"
      ]
     },
     "execution_count": 12,
     "metadata": {},
     "output_type": "execute_result"
    }
   ],
   "source": [
    "data"
   ]
  },
  {
   "cell_type": "markdown",
   "id": "6dd8fb65",
   "metadata": {},
   "source": [
    "# Lets add intervals for Histogram"
   ]
  },
  {
   "cell_type": "code",
   "execution_count": 13,
   "id": "1a52476f",
   "metadata": {},
   "outputs": [],
   "source": [
    "intervals = [-0.10,-0.09,-0.08,-0.07,-0.06,-0.05,-0.04,-0.03,-0.02,-0.01,0,0.01,0.02,0.03,0.04,0.05,0.06,0.07,0.08,0.09,0.10]"
   ]
  },
  {
   "cell_type": "code",
   "execution_count": 14,
   "id": "21bdad8b",
   "metadata": {},
   "outputs": [
    {
     "name": "stdout",
     "output_type": "stream",
     "text": [
      "n:  [0.000e+00 1.000e+00 0.000e+00 4.000e+00 1.100e+01 1.200e+01 3.900e+01\n",
      " 1.030e+02 3.670e+02 1.403e+03 1.302e+03 3.340e+02 7.100e+01 2.900e+01\n",
      " 1.100e+01 1.300e+01 3.000e+00 2.000e+00 0.000e+00 1.000e+00] 3706.0\n"
     ]
    },
    {
     "data": {
      "image/png": "[encoded data removed]",
      "text/plain": [
       "<Figure size 432x288 with 1 Axes>"
      ]
     },
     "metadata": {
      "needs_background": "light"
     },
     "output_type": "display_data"
    }
   ],
   "source": [
    "R_range = ['-9%','-8%','-7%','-6%','-5%','-4%','-3%','-2%' ,'-1%','0%','1%', '2%','3%','4%','5%','6%','7%','8%','9%','more']\n",
    "\n",
    "\n",
    "plt.hist(returns, bins=intervals )\n",
    "plt.title('Returns Distribution')\n",
    "plt.xlabel('Daily Return Range')\n",
    "plt.ylabel('Frequency')\n",
    "n, bins, patches = plt.hist(returns,bins=intervals)\n",
    "\n",
    "print(\"n: \", n, sum(n))\n",
    "\n",
    "\n",
    "plt.show()"
   ]
  },
  {
   "cell_type": "markdown",
   "id": "3cad95ab",
   "metadata": {},
   "source": [
    "# Lets make a table for Daily Returns probability :"
   ]
  },
  {
   "cell_type": "code",
   "execution_count": 15,
   "id": "ddd26f44",
   "metadata": {},
   "outputs": [
    {
     "name": "stdout",
     "output_type": "stream",
     "text": [
      "Requirement already satisfied: prettytable in c:\\programdata\\anaconda3\\lib\\site-packages (3.4.1)\n",
      "Requirement already satisfied: wcwidth in c:\\programdata\\anaconda3\\lib\\site-packages (from prettytable) (0.2.5)\n"
     ]
    }
   ],
   "source": [
    "!pip install prettytable \n"
   ]
  },
  {
   "cell_type": "code",
   "execution_count": 16,
   "id": "8fdfb3bf",
   "metadata": {},
   "outputs": [
    {
     "name": "stdout",
     "output_type": "stream",
     "text": [
      "+------+-----------+---------------+\n",
      "| Bin  | frequency |     Range     |\n",
      "+------+-----------+---------------+\n",
      "| -9%  |    0.0    | less than -9% |\n",
      "| -8%  |    1.0    |   -9% to -8%  |\n",
      "| -7%  |    0.0    |   -8% to -7%  |\n",
      "| -6%  |    4.0    |   -7% to -6%  |\n",
      "| -5%  |    11.0   |   -6% to -5%  |\n",
      "| -4%  |    12.0   |   -5% to -4%  |\n",
      "| -3%  |    39.0   |   -4% to -3%  |\n",
      "| -2%  |   103.0   |   -3% to -2   |\n",
      "| -1%  |   367.0   |   -2% to -1%  |\n",
      "|  0%  |   1403.0  |   -1% to 0%   |\n",
      "|  1%  |   1302.0  |    0% to 1%   |\n",
      "|  2%  |   334.0   |    1% to 2%   |\n",
      "|  3%  |    71.0   |    2% to 3%   |\n",
      "|  4%  |    29.0   |    3% to 4%   |\n",
      "|  5%  |    11.0   |    4% to 5%   |\n",
      "|  6%  |    13.0   |    5% to 6%   |\n",
      "|  7%  |    3.0    |    6% to 7%   |\n",
      "|  8%  |    2.0    |    7% to 8%   |\n",
      "|  9%  |    0.0    |    8% to 9%   |\n",
      "| more |    1.0    |  more than 9% |\n",
      "+------+-----------+---------------+\n"
     ]
    }
   ],
   "source": [
    "from prettytable import PrettyTable\n",
    "columns = [\"Bin\",\"frequency\", \"Range\" , \"Probability\" , \"Cummulative Probability\"]\n",
    "myTable = PrettyTable()\n",
    "myTable.add_column(columns[0], R_range)\n",
    "myTable.add_column(columns[1], n)\n",
    "myTable.add_column(columns[2], [\"less than -9%\",\n",
    "                                \"-9% to -8%\",\n",
    "                                \"-8% to -7%\",\n",
    "                                \"-7% to -6%\",\n",
    "                                \"-6% to -5%\",\n",
    "                                \"-5% to -4%\",\n",
    "                                \"-4% to -3%\",\n",
    "                                \"-3% to -2\",\n",
    "                                \"-2% to -1%\",\n",
    "                                \"-1% to 0%\",\n",
    "                                \"0% to 1%\",\n",
    "                                \"1% to 2%\",\n",
    "                                \"2% to 3%\",\n",
    "                                \"3% to 4%\",\n",
    "                                \"4% to 5%\",\n",
    "                                \"5% to 6%\",\n",
    "                                \"6% to 7%\",\n",
    "                                \"7% to 8%\",\n",
    "                                \"8% to 9%\",\n",
    "                                \"more than 9%\"])\n",
    "\n",
    "\n",
    "print(myTable)"
   ]
  },
  {
   "cell_type": "markdown",
   "id": "16d41e72",
   "metadata": {},
   "source": [
    "# "
   ]
  },
  {
   "cell_type": "markdown",
   "id": "eb515fce",
   "metadata": {},
   "source": [
    "# Total trading days count = 3499"
   ]
  },
  {
   "cell_type": "code",
   "execution_count": 17,
   "id": "0d8bcfaa",
   "metadata": {},
   "outputs": [],
   "source": [
    "import math"
   ]
  },
  {
   "cell_type": "code",
   "execution_count": 18,
   "id": "84af34ce",
   "metadata": {},
   "outputs": [
    {
     "name": "stdout",
     "output_type": "stream",
     "text": [
      "[0.000e+00 3.000e-02 0.000e+00 1.200e-01 3.200e-01 3.500e-01 1.130e+00\n",
      " 3.000e+00 1.067e+01 4.080e+01 3.786e+01 9.710e+00 2.060e+00 8.400e-01\n",
      " 3.200e-01 3.800e-01 9.000e-02 6.000e-02 0.000e+00 3.000e-02]\n"
     ]
    }
   ],
   "source": [
    "\n",
    "count =3439\n",
    "for i in n:\n",
    "    prob = (n/count)*100\n",
    "    prob2= np.round_(prob,2)\n",
    "print(prob2)\n",
    "\n",
    "myTable.add_column(columns[3], prob2)"
   ]
  },
  {
   "cell_type": "code",
   "execution_count": 19,
   "id": "dff25930",
   "metadata": {},
   "outputs": [
    {
     "name": "stdout",
     "output_type": "stream",
     "text": [
      "+------+-----------+---------------+-------------+\n",
      "| Bin  | frequency |     Range     | Probability |\n",
      "+------+-----------+---------------+-------------+\n",
      "| -9%  |    0.0    | less than -9% |     0.0     |\n",
      "| -8%  |    1.0    |   -9% to -8%  |     0.03    |\n",
      "| -7%  |    0.0    |   -8% to -7%  |     0.0     |\n",
      "| -6%  |    4.0    |   -7% to -6%  |     0.12    |\n",
      "| -5%  |    11.0   |   -6% to -5%  |     0.32    |\n",
      "| -4%  |    12.0   |   -5% to -4%  |     0.35    |\n",
      "| -3%  |    39.0   |   -4% to -3%  |     1.13    |\n",
      "| -2%  |   103.0   |   -3% to -2   |     3.0     |\n",
      "| -1%  |   367.0   |   -2% to -1%  |    10.67    |\n",
      "|  0%  |   1403.0  |   -1% to 0%   |     40.8    |\n",
      "|  1%  |   1302.0  |    0% to 1%   |    37.86    |\n",
      "|  2%  |   334.0   |    1% to 2%   |     9.71    |\n",
      "|  3%  |    71.0   |    2% to 3%   |     2.06    |\n",
      "|  4%  |    29.0   |    3% to 4%   |     0.84    |\n",
      "|  5%  |    11.0   |    4% to 5%   |     0.32    |\n",
      "|  6%  |    13.0   |    5% to 6%   |     0.38    |\n",
      "|  7%  |    3.0    |    6% to 7%   |     0.09    |\n",
      "|  8%  |    2.0    |    7% to 8%   |     0.06    |\n",
      "|  9%  |    0.0    |    8% to 9%   |     0.0     |\n",
      "| more |    1.0    |  more than 9% |     0.03    |\n",
      "+------+-----------+---------------+-------------+\n"
     ]
    }
   ],
   "source": [
    "print(myTable)"
   ]
  },
  {
   "cell_type": "code",
   "execution_count": 20,
   "id": "0cbe68fa",
   "metadata": {},
   "outputs": [
    {
     "name": "stdout",
     "output_type": "stream",
     "text": [
      "+------+-----------+---------------+-------------+-------------------------+\n",
      "| Bin  | frequency |     Range     | Probability | Cummulative Probability |\n",
      "+------+-----------+---------------+-------------+-------------------------+\n",
      "| -9%  |    0.0    | less than -9% |     0.0     |           0.0           |\n",
      "| -8%  |    1.0    |   -9% to -8%  |     0.03    |           0.0           |\n",
      "| -7%  |    0.0    |   -8% to -7%  |     0.0     |           0.0           |\n",
      "| -6%  |    4.0    |   -7% to -6%  |     0.12    |           0.0           |\n",
      "| -5%  |    11.0   |   -6% to -5%  |     0.32    |           0.0           |\n",
      "| -4%  |    12.0   |   -5% to -4%  |     0.35    |           1.0           |\n",
      "| -3%  |    39.0   |   -4% to -3%  |     1.13    |           2.0           |\n",
      "| -2%  |   103.0   |   -3% to -2   |     3.0     |           5.0           |\n",
      "| -1%  |   367.0   |   -2% to -1%  |    10.67    |           16.0          |\n",
      "|  0%  |   1403.0  |   -1% to 0%   |     40.8    |           56.0          |\n",
      "|  1%  |   1302.0  |    0% to 1%   |    37.86    |           94.0          |\n",
      "|  2%  |   334.0   |    1% to 2%   |     9.71    |          104.0          |\n",
      "|  3%  |    71.0   |    2% to 3%   |     2.06    |          106.0          |\n",
      "|  4%  |    29.0   |    3% to 4%   |     0.84    |          107.0          |\n",
      "|  5%  |    11.0   |    4% to 5%   |     0.32    |          107.0          |\n",
      "|  6%  |    13.0   |    5% to 6%   |     0.38    |          108.0          |\n",
      "|  7%  |    3.0    |    6% to 7%   |     0.09    |          108.0          |\n",
      "|  8%  |    2.0    |    7% to 8%   |     0.06    |          108.0          |\n",
      "|  9%  |    0.0    |    8% to 9%   |     0.0     |          108.0          |\n",
      "| more |    1.0    |  more than 9% |     0.03    |          108.0          |\n",
      "+------+-----------+---------------+-------------+-------------------------+\n"
     ]
    }
   ],
   "source": [
    "myTable.add_column(columns[4], np.round_(prob2.cumsum()))\n",
    "\n",
    "print(myTable)"
   ]
  },
  {
   "cell_type": "markdown",
   "id": "2da54444",
   "metadata": {},
   "source": [
    "# CONCLUSION :\n",
    "\n",
    "\n",
    "I have populated the daily price returns of NIFTY50 (INDEX) for 16 years - 2007 to 2022.\n",
    "\n",
    "Seeing the return distribution, does it ring a bell? HISTOGRAM  / normal distribution.\n",
    "\n",
    "You can see that the return distribution looks very much like the normal distribution. And this is true not just for NIFTY50  but also for other companies.\n",
    "\n",
    "The normality of equity returns is one of the primary reasons quants and stats are used so much in finance. \n",
    "\n",
    "People have built Nobel prize-winning valuation models around these normality assumptions, and investors build portfolios based on these simplistic assumptions.\n",
    "\n",
    "But here's the catch.\n"
   ]
  },
  {
   "cell_type": "code",
   "execution_count": 21,
   "id": "bfdeec1a",
   "metadata": {},
   "outputs": [
    {
     "name": "stdout",
     "output_type": "stream",
     "text": [
      "0.0\n"
     ]
    }
   ],
   "source": [
    "print(np.round_(prob[0], 20))"
   ]
  },
  {
   "cell_type": "markdown",
   "id": "ea7efcd8",
   "metadata": {},
   "source": [
    "# "
   ]
  },
  {
   "cell_type": "markdown",
   "id": "9e256c7d",
   "metadata": {},
   "source": [
    "# Based on this assumption of normality, a simple calculation would show that the probability of a single-day fall for NIFTY50 of more than 9% is 0.0%. i.e., such an event should happen once in millions of years.\n",
    "\n",
    "\n",
    "\n",
    "And by the way, this happened twice in 2020.\n"
   ]
  },
  {
   "cell_type": "markdown",
   "id": "ba557994",
   "metadata": {},
   "source": [
    "I am not against the use of quants and stats in finance. But blindly believing in simplistic assumptions and building levered portfolios based on them will surely not end well.\n"
   ]
  },
  {
   "cell_type": "markdown",
   "id": "b24449f4",
   "metadata": {},
   "source": [
    "# Finance and investing, in my opinion, is a subject of social science, not pure science. And I love to learn it that way."
   ]
  },
  {
   "cell_type": "markdown",
   "id": "b9804d5f",
   "metadata": {},
   "source": [
    "# "
   ]
  },
  {
   "cell_type": "markdown",
   "id": "58b77cdf",
   "metadata": {},
   "source": [
    "# "
   ]
  },
  {
   "cell_type": "markdown",
   "id": "ce0e8282",
   "metadata": {},
   "source": [
    "# "
   ]
  }
 ],
 "metadata": {
  "kernelspec": {
   "display_name": "Python 3 (ipykernel)",
   "language": "python",
   "name": "python3"
  },
  "language_info": {
   "codemirror_mode": {
    "name": "ipython",
    "version": 3
   },
   "file_extension": ".py",
   "mimetype": "text/x-python",
   "name": "python",
   "nbconvert_exporter": "python",
   "pygments_lexer": "ipython3",
   "version": "3.9.7"
  }
 },
 "nbformat": 4,
 "nbformat_minor": 5
}
